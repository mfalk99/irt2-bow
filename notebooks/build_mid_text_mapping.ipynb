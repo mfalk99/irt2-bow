{
 "cells": [
  {
   "cell_type": "code",
   "execution_count": 1,
   "metadata": {},
   "outputs": [],
   "source": [
    "import pickle\n",
    "from collections import defaultdict\n",
    "\n",
    "from irt2_bow.types import DatasetName\n",
    "from irt2_bow.utils import get_dataset_config, dataset_from_config"
   ]
  },
  {
   "cell_type": "code",
   "execution_count": 2,
   "metadata": {},
   "outputs": [],
   "source": [
    "MAPPINGS_DIR=\".local/mappings\""
   ]
  },
  {
   "cell_type": "code",
   "execution_count": 3,
   "metadata": {},
   "outputs": [
    {
     "name": "stdout",
     "output_type": "stream",
     "text": [
      "loaded BLP/WN18RR: 40943 vertices | 11 relations | 40943 mentions\n",
      "BLP/WN18RR\n",
      "Writing 40943 mappings to .local/mappings/BLP-WN18RR.pkl\n",
      "loaded BLP/FB15K237: 14541 vertices | 237 relations | 14541 mentions\n",
      "BLP/FB15K237\n",
      "Writing 14515 mappings to .local/mappings/BLP-FB15K237.pkl\n"
     ]
    }
   ],
   "source": [
    "# for name in {DatasetName.IRT2_TINY, DatasetName.IRT2_SMALL, DatasetName.IRT2_MEDIUM, DatasetName.IRT2_LARGE}:\n",
    "for name in {DatasetName.FB, DatasetName.WN}:\n",
    "    config = get_dataset_config(name=name, with_subsampling=False)\n",
    "    dataset = dataset_from_config(config)\n",
    "\n",
    "    mid2texts = defaultdict(list)\n",
    "\n",
    "    for ctxs_fn in {dataset.closed_contexts, dataset.open_contexts_test, dataset.open_contexts_val}:\n",
    "        with ctxs_fn() as ctxs:\n",
    "            for ctx in ctxs:\n",
    "                mid = ctx.mid\n",
    "                text = ctx.data\n",
    "\n",
    "                mid2texts[mid].append(text)\n",
    "\n",
    "    print(dataset.name)\n",
    "    out_path = f\"{MAPPINGS_DIR}/{dataset.name.replace('/', '-')}.pkl\"\n",
    "    print(f\"Writing {len(mid2texts)} mappings to {out_path}\")\n",
    "    pickle.dump(dict(mid2texts), open(out_path, \"wb\"))"
   ]
  },
  {
   "cell_type": "code",
   "execution_count": null,
   "metadata": {},
   "outputs": [],
   "source": []
  }
 ],
 "metadata": {
  "kernelspec": {
   "display_name": "Python 3",
   "language": "python",
   "name": "python3"
  },
  "language_info": {
   "codemirror_mode": {
    "name": "ipython",
    "version": 3
   },
   "file_extension": ".py",
   "mimetype": "text/x-python",
   "name": "python",
   "nbconvert_exporter": "python",
   "pygments_lexer": "ipython3",
   "version": "3.11.9"
  }
 },
 "nbformat": 4,
 "nbformat_minor": 2
}
