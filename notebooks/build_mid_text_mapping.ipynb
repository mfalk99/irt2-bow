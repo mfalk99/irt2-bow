{
 "cells": [
  {
   "cell_type": "code",
   "execution_count": 8,
   "metadata": {},
   "outputs": [],
   "source": [
    "import pickle\n",
    "from collections import defaultdict\n",
    "\n",
    "from irt2.types import MID, RID, VID, Split as IRT2Split\n",
    "from irt2_bow.types import DatasetName, Split\n",
    "from irt2_bow.utils import get_dataset_config, dataset_from_config"
   ]
  },
  {
   "cell_type": "code",
   "execution_count": 2,
   "metadata": {},
   "outputs": [],
   "source": [
    "MAPPINGS_DIR=\".local/mappings\""
   ]
  },
  {
   "cell_type": "code",
   "execution_count": 3,
   "metadata": {},
   "outputs": [
    {
     "name": "stdout",
     "output_type": "stream",
     "text": [
      "loaded IRT2/CDE-T: 12389 vertices | 5 relations | 23894 mentions\n",
      "IRT2/CDE-T\n",
      "Writing 23883 mappings to .local/mappings/IRT2-CDE-T.pkl\n",
      "loaded IRT2/CDE-L: 15020 vertices | 45 relations | 32666 mentions\n",
      "IRT2/CDE-L\n",
      "Writing 32632 mappings to .local/mappings/IRT2-CDE-L.pkl\n",
      "loaded IRT2/CDE-M: 15020 vertices | 45 relations | 32666 mentions\n",
      "IRT2/CDE-M\n",
      "Writing 32647 mappings to .local/mappings/IRT2-CDE-M.pkl\n",
      "loaded IRT2/CDE-S: 14207 vertices | 12 relations | 28582 mentions\n",
      "IRT2/CDE-S\n",
      "Writing 28556 mappings to .local/mappings/IRT2-CDE-S.pkl\n"
     ]
    }
   ],
   "source": [
    "for name in {DatasetName.IRT2_TINY, DatasetName.IRT2_SMALL, DatasetName.IRT2_MEDIUM, DatasetName.IRT2_LARGE}:\n",
    "    config = get_dataset_config(name=name, with_subsampling=False)\n",
    "    dataset = dataset_from_config(config)\n",
    "\n",
    "    mid2texts = defaultdict(list)\n",
    "\n",
    "    for ctxs_fn in {dataset.closed_contexts, dataset.open_contexts_test, dataset.open_contexts_val}:\n",
    "        with ctxs_fn() as ctxs:\n",
    "            for ctx in ctxs:\n",
    "                mid = ctx.mid\n",
    "                text = ctx.data\n",
    "\n",
    "                mid2texts[mid].append(text)\n",
    "\n",
    "    print(dataset.name)\n",
    "    out_path = f\"{MAPPINGS_DIR}/{dataset.name.replace('/', '-')}.pkl\"\n",
    "    print(f\"Writing {len(mid2texts)} mappings to {out_path}\")\n",
    "    pickle.dump(dict(mid2texts), open(out_path, \"wb\"))"
   ]
  },
  {
   "cell_type": "code",
   "execution_count": 4,
   "metadata": {},
   "outputs": [
    {
     "name": "stdout",
     "output_type": "stream",
     "text": [
      "loaded IRT2/CDE-T: 12389 vertices | 5 relations | 23894 mentions\n"
     ]
    },
    {
     "data": {
      "text/plain": [
       "'medical officer'"
      ]
     },
     "execution_count": 4,
     "metadata": {},
     "output_type": "execute_result"
    }
   ],
   "source": [
    "config = get_dataset_config(name=DatasetName.IRT2_TINY, with_subsampling=False)\n",
    "dataset = dataset_from_config(config)\n",
    "\n",
    "dataset.idmap.mid2str[0]"
   ]
  },
  {
   "cell_type": "code",
   "execution_count": 13,
   "metadata": {},
   "outputs": [
    {
     "data": {
      "text/plain": [
       "True"
      ]
     },
     "execution_count": 13,
     "metadata": {},
     "output_type": "execute_result"
    }
   ],
   "source": [
    "0 in dataset.idmap.mid2vid[IRT2Split.train]"
   ]
  },
  {
   "cell_type": "code",
   "execution_count": 10,
   "metadata": {},
   "outputs": [],
   "source": [
    "with dataset.closed_contexts() as ctxs:\n",
    "    for ctx in ctxs:\n",
    "        if ctx.mid == 0:\n",
    "            print(\"found\")\n",
    "            break"
   ]
  },
  {
   "cell_type": "code",
   "execution_count": 15,
   "metadata": {},
   "outputs": [],
   "source": [
    "mids_in_closed_ctxs = set()\n",
    "with dataset.closed_contexts() as ctxs:\n",
    "    for ctx in ctxs:\n",
    "        mids_in_closed_ctxs.add(ctx.mid)\n",
    "\n",
    "mids_in_split = set(dataset.idmap.mid2vid[IRT2Split.train])"
   ]
  },
  {
   "cell_type": "code",
   "execution_count": null,
   "metadata": {},
   "outputs": [],
   "source": []
  }
 ],
 "metadata": {
  "kernelspec": {
   "display_name": "Python 3",
   "language": "python",
   "name": "python3"
  },
  "language_info": {
   "codemirror_mode": {
    "name": "ipython",
    "version": 3
   },
   "file_extension": ".py",
   "mimetype": "text/x-python",
   "name": "python",
   "nbconvert_exporter": "python",
   "pygments_lexer": "ipython3",
   "version": "3.11.9"
  }
 },
 "nbformat": 4,
 "nbformat_minor": 2
}
